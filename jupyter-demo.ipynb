{
 "cells": [
  {
   "cell_type": "code",
   "execution_count": null,
   "metadata": {},
   "outputs": [],
   "source": [
    "import pandas as pd\n",
    "import os\n",
    "from inspiredco.critique import Critique"
   ]
  },
  {
   "cell_type": "code",
   "execution_count": null,
   "metadata": {},
   "outputs": [],
   "source": [
    "%env INSPIREDCO_API_KEY="
   ]
  },
  {
   "cell_type": "code",
   "execution_count": null,
   "metadata": {},
   "outputs": [],
   "source": [
    "df = pd.read_csv(\"wmt20-de-en-full.tsv\", sep=\"\\t\", quoting=3, keep_default_na=False)  # quoting=3 is to ignore double quotes"
   ]
  },
  {
   "cell_type": "code",
   "execution_count": null,
   "metadata": {},
   "outputs": [],
   "source": [
    "df.head()"
   ]
  },
  {
   "cell_type": "code",
   "execution_count": null,
   "metadata": {},
   "outputs": [],
   "source": [
    "client = Critique(api_key=os.environ[\"INSPIREDCO_API_KEY\"])"
   ]
  },
  {
   "cell_type": "code",
   "execution_count": null,
   "metadata": {},
   "outputs": [],
   "source": [
    "df_lim = df.iloc[1000:3500]"
   ]
  },
  {
   "cell_type": "code",
   "execution_count": null,
   "metadata": {},
   "outputs": [],
   "source": [
    "eval_dict = df_lim[[\"source\", \"translation\", \"label\"]].to_dict(\"records\")\n",
    "for d in eval_dict:\n",
    "\td[\"references\"] = [d.pop(\"label\")]\n",
    "\td[\"target\"] = d.pop(\"translation\")\n",
    "\n",
    "result = client.evaluate(\n",
    "\tmetric=\"bert_score\", config={\"model\": \"bert-base-uncased\"}, dataset=eval_dict\n",
    ")"
   ]
  },
  {
   "cell_type": "code",
   "execution_count": null,
   "metadata": {},
   "outputs": [],
   "source": [
    "result"
   ]
  }
 ],
 "metadata": {
  "kernelspec": {
   "display_name": "zeno",
   "language": "python",
   "name": "python3"
  },
  "language_info": {
   "codemirror_mode": {
    "name": "ipython",
    "version": 3
   },
   "file_extension": ".py",
   "mimetype": "text/x-python",
   "name": "python",
   "nbconvert_exporter": "python",
   "pygments_lexer": "ipython3",
   "version": "3.10.9"
  },
  "orig_nbformat": 4,
  "vscode": {
   "interpreter": {
    "hash": "3d3165c3d83685c4ad8e0146705088da0f04b298ed1b3478ac14e7341f98150b"
   }
  }
 },
 "nbformat": 4,
 "nbformat_minor": 2
}
