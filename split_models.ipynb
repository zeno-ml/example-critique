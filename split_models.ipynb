{
 "cells": [
  {
   "cell_type": "code",
   "execution_count": 2,
   "metadata": {},
   "outputs": [
    {
     "name": "stderr",
     "output_type": "stream",
     "text": [
      "/Users/acabrera/dev-research/22-zeno/zeno/.venv/lib/python3.8/site-packages/tqdm/auto.py:22: TqdmWarning: IProgress not found. Please update jupyter and ipywidgets. See https://ipywidgets.readthedocs.io/en/stable/user_install.html\n",
      "  from .autonotebook import tqdm as notebook_tqdm\n",
      "2023-03-03 09:53:20.125973: I tensorflow/core/platform/cpu_feature_guard.cc:193] This TensorFlow binary is optimized with oneAPI Deep Neural Network Library (oneDNN) to use the following CPU instructions in performance-critical operations:  AVX2 FMA\n",
      "To enable them in other operations, rebuild TensorFlow with the appropriate compiler flags.\n"
     ]
    }
   ],
   "source": [
    "import pickle\n",
    "\n",
    "import pandas as pd\n",
    "from sentence_transformers import SentenceTransformer"
   ]
  },
  {
   "cell_type": "code",
   "execution_count": 3,
   "metadata": {},
   "outputs": [],
   "source": [
    "df = pd.read_csv(\"wmt20-de-en.tsv\", sep=\"\\t\", quoting=3, keep_default_na=False)"
   ]
  },
  {
   "cell_type": "code",
   "execution_count": 5,
   "metadata": {},
   "outputs": [],
   "source": [
    "# Save each model output to a separate file\n",
    "for model in df[\"model\"].unique():\n",
    "\tdf[df[\"model\"] == model].to_csv(f\"models/{model}.tsv\", sep=\"\\t\", index=False)"
   ]
  },
  {
   "cell_type": "code",
   "execution_count": 6,
   "metadata": {},
   "outputs": [
    {
     "data": {
      "text/plain": [
       "['UEDIN.1066',\n",
       " 'Huoshan_Translate.789',\n",
       " 'Online-A.1571',\n",
       " 'yolo.1052',\n",
       " 'zlabs-nlp.1153',\n",
       " 'Online-B.1587',\n",
       " 'OPPO.1360',\n",
       " 'Online-G.1553',\n",
       " 'refb',\n",
       " 'PROMT_NMT.77',\n",
       " 'ref',\n",
       " 'Tohoku-AIP-NTT.1442',\n",
       " 'Online-Z.1629',\n",
       " 'WMTBiomedBaseline.387']"
      ]
     },
     "execution_count": 6,
     "metadata": {},
     "output_type": "execute_result"
    }
   ],
   "source": [
    "# Get models to list in config.toml\n",
    "df[\"model\"].unique().tolist()"
   ]
  },
  {
   "cell_type": "code",
   "execution_count": 7,
   "metadata": {},
   "outputs": [],
   "source": [
    "# Save reference model as main TSV to load into Zeno\n",
    "df[df[\"model\"] == \"ref\"][[\"source\", \"text\", \"reference\"]].to_csv(\"ref_entries.tsv\", sep=\"\\t\", index=False)"
   ]
  },
  {
   "cell_type": "code",
   "execution_count": 10,
   "metadata": {},
   "outputs": [],
   "source": [
    "# Get HF sentence embeddings\n",
    "df_base = df[df[\"model\"] == \"ref\"][[\"text\", \"reference\"]]\n",
    "sentence_embed = SentenceTransformer(\"paraphrase-multilingual-mpnet-base-v2\")\n",
    "embed = sentence_embed.encode(df_base['reference'].tolist())"
   ]
  },
  {
   "cell_type": "code",
   "execution_count": 12,
   "metadata": {},
   "outputs": [],
   "source": [
    "df_base[\"embed\"] = embed.tolist()"
   ]
  },
  {
   "cell_type": "code",
   "execution_count": 28,
   "metadata": {},
   "outputs": [],
   "source": [
    "df_base.to_csv(\"ref_embed.tsv\", sep=\"\\t\", index=False)"
   ]
  }
 ],
 "metadata": {
  "kernelspec": {
   "display_name": ".venv",
   "language": "python",
   "name": "python3"
  },
  "language_info": {
   "codemirror_mode": {
    "name": "ipython",
    "version": 3
   },
   "file_extension": ".py",
   "mimetype": "text/x-python",
   "name": "python",
   "nbconvert_exporter": "python",
   "pygments_lexer": "ipython3",
   "version": "3.8.12"
  },
  "orig_nbformat": 4
 },
 "nbformat": 4,
 "nbformat_minor": 2
}
