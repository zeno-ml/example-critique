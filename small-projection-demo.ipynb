{
 "cells": [
  {
   "cell_type": "code",
   "execution_count": null,
   "metadata": {},
   "outputs": [],
   "source": [
    "import os\n",
    "\n",
    "import pandas as pd\n",
    "from inspiredco.critique import Critique\n",
    "from sentence_transformers import SentenceTransformer\n",
    "\n",
    "from zeno import ZenoOptions, distill, metric, model, zeno"
   ]
  },
  {
   "cell_type": "code",
   "execution_count": null,
   "metadata": {},
   "outputs": [],
   "source": [
    "# Insert your API key here\n",
    "%env INSPIREDCO_API_KEY="
   ]
  },
  {
   "cell_type": "code",
   "execution_count": null,
   "metadata": {},
   "outputs": [],
   "source": [
    "df = pd.read_csv(\"wmt20-de-en.tsv\", sep=\"\\t\", quoting=3, keep_default_na=False)  # quoting=3 is to ignore double quotes\n",
    "\n",
    "df_small = df.head(1000)"
   ]
  },
  {
   "cell_type": "code",
   "execution_count": null,
   "metadata": {},
   "outputs": [],
   "source": [
    "df_small.head()"
   ]
  },
  {
   "cell_type": "code",
   "execution_count": null,
   "metadata": {},
   "outputs": [],
   "source": [
    "client = Critique(api_key=os.environ[\"INSPIREDCO_API_KEY\"])"
   ]
  },
  {
   "cell_type": "code",
   "execution_count": null,
   "metadata": {},
   "outputs": [],
   "source": [
    "@model\n",
    "def pred_fns(name):\n",
    "    sentence_embed = SentenceTransformer('paraphrase-MiniLM-L6-v2')\n",
    "    def pred(df, ops):\n",
    "        embed = sentence_embed.encode(df[ops.label_column].tolist()).tolist()\n",
    "        return df[\"translation\"], embed\n",
    "\n",
    "    return pred\n",
    "\n",
    "\n",
    "@distill\n",
    "def bert_score(df, ops):\n",
    "    eval_dict = df[[\"source\", ops.output_column, \"label\"]].to_dict(\"records\")\n",
    "    for d in eval_dict:\n",
    "        d[\"references\"] = [d.pop(\"label\")]\n",
    "        d[\"target\"] = d.pop(ops.output_column)\n",
    "\n",
    "    result = client.evaluate(\n",
    "        metric=\"bert_score\", config={\"model\": \"bert-base-uncased\"}, dataset=eval_dict\n",
    "    )\n",
    "\n",
    "    return [round(r[\"value\"], 6) for r in result[\"examples\"]]\n",
    "\n",
    "\n",
    "@metric\n",
    "def avg_bert_score(df, ops: ZenoOptions):\n",
    "    return df[ops.distill_columns[\"bert_score\"]].mean()\n",
    "\n",
    "\n",
    "@distill\n",
    "def length(df, ops):\n",
    "    return df[ops.data_column].str.len()\n"
   ]
  },
  {
   "cell_type": "code",
   "execution_count": null,
   "metadata": {},
   "outputs": [],
   "source": [
    "zeno({\n",
    "\t\"view\": \"text-classification\",\n",
    "\t\"functions\": [pred_fns, bert_score, avg_bert_score, length],\n",
    "\t\"metadata\": df_small,\n",
    "\t\"models\": [\"human-with-embeddings\"],\n",
    "\t\"data_column\":\"text\",\n",
    "\t\"label_column\": \"label\",\n",
    "\t\"batch_size\": 500,\n",
    "\t\"port\": 8121,\n",
    "})"
   ]
  },
  {
   "cell_type": "code",
   "execution_count": null,
   "metadata": {},
   "outputs": [],
   "source": []
  }
 ],
 "metadata": {
  "kernelspec": {
   "display_name": "base",
   "language": "python",
   "name": "python3"
  },
  "language_info": {
   "codemirror_mode": {
    "name": "ipython",
    "version": 3
   },
   "file_extension": ".py",
   "mimetype": "text/x-python",
   "name": "python",
   "nbconvert_exporter": "python",
   "pygments_lexer": "ipython3",
   "version": "3.8.12"
  },
  "orig_nbformat": 4,
  "vscode": {
   "interpreter": {
    "hash": "40d3a090f54c6569ab1632332b64b2c03c39dcf918b08424e98f38b5ae0af88f"
   }
  }
 },
 "nbformat": 4,
 "nbformat_minor": 2
}
